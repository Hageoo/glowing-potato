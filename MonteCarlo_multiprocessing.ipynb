{
  "cells": [
    {
      "cell_type": "code",
      "execution_count": 1,
      "metadata": {
        "id": "B-WdWnKuucCr"
      },
      "outputs": [],
      "source": [
        "import random\n",
        "import multiprocessing\n",
        "import cProfile\n"
      ]
    },
    {
      "cell_type": "code",
      "execution_count": 2,
      "metadata": {
        "id": "VEfAoY4PutzC"
      },
      "outputs": [],
      "source": [
        "def pi_serial(samples):\n",
        "    hits = 0\n",
        "    for i in range(samples):\n",
        "        x = random.uniform(-1.0, 1.0)\n",
        "        y = random.uniform(-1.0, 1.0)\n",
        "        if x**2 + y**2 <= 1:\n",
        "            hits += 1\n",
        "    return 4.0 * hits / samples"
      ]
    },
    {
      "cell_type": "code",
      "execution_count": 3,
      "metadata": {
        "id": "tfAGQIvQuxFt"
      },
      "outputs": [],
      "source": [
        "def sample():\n",
        "    x = random.uniform(-1.0, 1.0)\n",
        "    y = random.uniform(-1.0, 1.0)\n",
        "    if x**2 + y**2 <= 1:\n",
        "        return 1\n",
        "    else:\n",
        "        return 0\n",
        "\n",
        "def pi_apply_async(samples):\n",
        "    pool = multiprocessing.Pool()\n",
        "    results_async = [pool.apply_async(sample) for i in range(samples)]\n",
        "    hits = sum(r.get() for r in results_async)\n",
        "    return 4.0 * hits / samples"
      ]
    },
    {
      "cell_type": "code",
      "execution_count": 4,
      "metadata": {
        "id": "rN6LQ6K0u2Ku"
      },
      "outputs": [],
      "source": [
        "def sample_multiple(samples_partial):\n",
        "    return sum(sample() for i in range(samples_partial))\n",
        "\n",
        "def pi_apply_async_chunked(samples, n_tasks):\n",
        "    chunk_size = samples // n_tasks\n",
        "    pool = multiprocessing.Pool()\n",
        "    results_async = [pool.apply_async(sample_multiple, (chunk_size,))\n",
        "                     for i in range(n_tasks)]\n",
        "    hits = sum(r.get() for r in results_async)\n",
        "    return 4.0 * hits / samples\n"
      ]
    },
    {
      "cell_type": "code",
      "execution_count": 5,
      "metadata": {
        "colab": {
          "base_uri": "https://localhost:8080/"
        },
        "id": "3IKD5kC-Z_ls",
        "outputId": "2b211c7b-bbf3-4b30-e0da-f8bb3f18cf53"
      },
      "outputs": [
        {
          "name": "stdout",
          "output_type": "stream",
          "text": [
            "97.4 ms ± 21 ms per loop (mean ± std. dev. of 7 runs, 10 loops each)\n"
          ]
        }
      ],
      "source": [
        "%%timeit\n",
        "pi_serial(100000)"
      ]
    },
    {
      "cell_type": "code",
      "execution_count": 6,
      "metadata": {
        "colab": {
          "base_uri": "https://localhost:8080/",
          "height": 914
        },
        "id": "jrG0tkPHaDn3",
        "outputId": "46474637-013f-42dd-ae7c-3c15f15c8aab"
      },
      "outputs": [],
      "source": [
        "%%timeit\n",
        "pi_apply_async(100000)"
      ]
    },
    {
      "cell_type": "code",
      "execution_count": null,
      "metadata": {
        "id": "MZhIdiaEaHGK"
      },
      "outputs": [],
      "source": [
        "%timeit\n",
        "pi_apply_async_chunked(100000, 10)"
      ]
    },
    {
      "cell_type": "code",
      "execution_count": null,
      "metadata": {
        "id": "_MEXA-ddu6ac"
      },
      "outputs": [],
      "source": [
        "# Profile pi_serial()\n",
        "print(\"Serial profiling\")\n",
        "cProfile.run('pi_serial(100000)')\n",
        "\n",
        "print(\"Apply async profiling\")\n",
        "# Profile pi_apply_async()\n",
        "cProfile.run('pi_apply_async(1000000)')\n",
        "\n",
        "print(\"Apply async chuncked profiling\")\n",
        "# Profile pi_apply_async_chunked()\n",
        "cProfile.run('pi_apply_async_chunked(100000, 10)')"
      ]
    },
    {
      "cell_type": "code",
      "execution_count": null,
      "metadata": {
        "id": "Eu58l4RbaEib"
      },
      "outputs": [],
      "source": []
    }
  ],
  "metadata": {
    "colab": {
      "provenance": []
    },
    "kernelspec": {
      "display_name": "Python 3",
      "name": "python3"
    },
    "language_info": {
      "codemirror_mode": {
        "name": "ipython",
        "version": 3
      },
      "file_extension": ".py",
      "mimetype": "text/x-python",
      "name": "python",
      "nbconvert_exporter": "python",
      "pygments_lexer": "ipython3",
      "version": "3.10.4"
    }
  },
  "nbformat": 4,
  "nbformat_minor": 0
}
