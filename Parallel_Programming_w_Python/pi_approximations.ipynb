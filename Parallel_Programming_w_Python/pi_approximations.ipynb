{
 "cells": [
  {
   "cell_type": "markdown",
   "metadata": {},
   "source": [
    "### **Profiling**"
   ]
  },
  {
   "cell_type": "code",
   "execution_count": 1,
   "metadata": {},
   "outputs": [
    {
     "name": "stdout",
     "output_type": "stream",
     "text": [
      "Sequential π approximation: 3.141594652413976\n"
     ]
    }
   ],
   "source": [
    "from pi_seq import pi_sequential\n",
    "from pi_multi import pi_multiprocessing\n",
    "from pi_mpi import pi_mpi4\n",
    "import cProfile\n",
    "import pstats   "
   ]
  },
  {
   "cell_type": "code",
   "execution_count": 2,
   "metadata": {},
   "outputs": [
    {
     "data": {
      "text/plain": [
       "3.141592853552712"
      ]
     },
     "execution_count": 2,
     "metadata": {},
     "output_type": "execute_result"
    }
   ],
   "source": [
    "x = pi_sequential(10000000)\n",
    "x"
   ]
  },
  {
   "cell_type": "code",
   "execution_count": 3,
   "metadata": {},
   "outputs": [],
   "source": [
    "cProfile.run('pi_sequential(1000000)', filename='profile_seq.prof')"
   ]
  },
  {
   "cell_type": "code",
   "execution_count": 4,
   "metadata": {},
   "outputs": [
    {
     "data": {
      "text/plain": [
       "3.1415928535523587"
      ]
     },
     "execution_count": 4,
     "metadata": {},
     "output_type": "execute_result"
    }
   ],
   "source": [
    "y = pi_multiprocessing(10000000, 5)\n",
    "y"
   ]
  },
  {
   "cell_type": "code",
   "execution_count": 5,
   "metadata": {},
   "outputs": [],
   "source": [
    "cProfile.run('pi_multiprocessing(1000000, 4)', filename='profile_multi.prof')"
   ]
  },
  {
   "cell_type": "code",
   "execution_count": 6,
   "metadata": {},
   "outputs": [
    {
     "name": "stdout",
     "output_type": "stream",
     "text": [
      "Pi with MPI: 3.1415928535526025\n"
     ]
    }
   ],
   "source": [
    "z = pi_mpi4(10000000)\n",
    "z"
   ]
  },
  {
   "cell_type": "code",
   "execution_count": 7,
   "metadata": {},
   "outputs": [
    {
     "name": "stdout",
     "output_type": "stream",
     "text": [
      "Pi with MPI: 3.141594652413813\n"
     ]
    }
   ],
   "source": [
    "cProfile.run('pi_mpi4(1000000)', filename='profile_mpi.prof')"
   ]
  },
  {
   "cell_type": "code",
   "execution_count": 8,
   "metadata": {},
   "outputs": [
    {
     "name": "stdout",
     "output_type": "stream",
     "text": [
      "Fri Apr 19 14:45:58 2024    profile_seq.prof\n",
      "\n",
      "         1000006 function calls in 1.202 seconds\n",
      "\n",
      "   Ordered by: cumulative time\n",
      "\n",
      "   ncalls  tottime  percall  cumtime  percall filename:lineno(function)\n",
      "        1    0.000    0.000    1.202    1.202 {built-in method builtins.exec}\n",
      "        1    0.000    0.000    1.202    1.202 <string>:1(<module>)\n",
      "        1    0.000    0.000    1.202    1.202 pi_seq.py:3(pi_sequential)\n",
      "        1    0.201    0.201    1.202    1.202 {built-in method builtins.sum}\n",
      "  1000001    1.001    0.000    1.001    0.000 pi_seq.py:5(<genexpr>)\n",
      "        1    0.000    0.000    0.000    0.000 {method 'disable' of '_lsprof.Profiler' objects}\n",
      "\n",
      "\n"
     ]
    },
    {
     "data": {
      "text/plain": [
       "<pstats.Stats at 0x1c129b76c50>"
      ]
     },
     "execution_count": 8,
     "metadata": {},
     "output_type": "execute_result"
    }
   ],
   "source": [
    "stats_seq = pstats.Stats('profile_seq.prof')\n",
    "stats_seq.strip_dirs().sort_stats('cumulative').print_stats()"
   ]
  },
  {
   "cell_type": "code",
   "execution_count": 9,
   "metadata": {},
   "outputs": [
    {
     "name": "stdout",
     "output_type": "stream",
     "text": [
      "Fri Apr 19 14:46:18 2024    profile_multi.prof\n",
      "\n",
      "         1445 function calls in 1.972 seconds\n",
      "\n",
      "   Ordered by: cumulative time\n",
      "\n",
      "   ncalls  tottime  percall  cumtime  percall filename:lineno(function)\n",
      "        1    0.000    0.000    1.972    1.972 {built-in method builtins.exec}\n",
      "        1    0.010    0.010    1.972    1.972 <string>:1(<module>)\n",
      "        1    0.027    0.027    1.962    1.962 pi_multi.py:8(pi_multiprocessing)\n",
      "        1    0.000    0.000    1.675    1.675 pool.py:366(starmap)\n",
      "        4    0.003    0.001    1.671    0.418 threading.py:582(wait)\n",
      "        1    0.000    0.000    1.668    1.668 pool.py:764(get)\n",
      "        1    0.000    0.000    1.668    1.668 pool.py:761(wait)\n",
      "        4    0.000    0.000    1.667    0.417 threading.py:288(wait)\n",
      "       19    1.667    0.088    1.667    0.088 {method 'acquire' of '_thread.lock' objects}\n",
      "        1    0.172    0.172    0.172    0.172 pi_multi.py:11(<listcomp>)\n",
      "        1    0.000    0.000    0.041    0.041 context.py:115(Pool)\n",
      "        1    0.000    0.000    0.041    0.041 pool.py:183(__init__)\n",
      "        1    0.037    0.037    0.037    0.037 {built-in method builtins.sum}\n",
      "        1    0.000    0.000    0.036    0.036 pool.py:302(_repopulate_pool)\n",
      "        1    0.000    0.000    0.036    0.036 pool.py:311(_repopulate_pool_static)\n",
      "        4    0.000    0.000    0.036    0.009 process.py:110(start)\n",
      "        4    0.000    0.000    0.036    0.009 context.py:324(_Popen)\n",
      "        4    0.000    0.000    0.035    0.009 popen_spawn_win32.py:44(__init__)\n",
      "        4    0.032    0.008    0.032    0.008 {built-in method _winapi.CreateProcess}\n",
      "        5    0.000    0.000    0.011    0.002 util.py:205(__call__)\n",
      "        1    0.000    0.000    0.010    0.010 pool.py:735(__exit__)\n",
      "        1    0.000    0.000    0.010    0.010 pool.py:651(terminate)\n",
      "        1    0.000    0.000    0.010    0.010 pool.py:677(_terminate_pool)\n",
      "       16    0.000    0.000    0.009    0.001 popen_spawn_win32.py:101(wait)\n",
      "        2    0.000    0.000    0.009    0.004 process.py:142(join)\n",
      "       16    0.009    0.001    0.009    0.001 {built-in method _winapi.WaitForSingleObject}\n",
      "        1    0.000    0.000    0.006    0.006 pool.py:468(_map_async)\n",
      "        1    0.006    0.006    0.006    0.006 pool.py:793(__init__)\n",
      "        3    0.000    0.000    0.003    0.001 threading.py:909(start)\n",
      "        3    0.000    0.000    0.002    0.001 context.py:110(SimpleQueue)\n",
      "        3    0.000    0.000    0.002    0.001 queues.py:340(__init__)\n",
      "        1    0.000    0.000    0.002    0.002 pool.py:342(_setup_queues)\n",
      "        8    0.000    0.000    0.002    0.000 reduction.py:58(dump)\n",
      "        3    0.000    0.000    0.002    0.001 connection.py:540(Pipe)\n",
      "       11    0.001    0.000    0.001    0.000 {method 'dump' of '_pickle.Pickler' objects}\n",
      "        4    0.001    0.000    0.001    0.000 {built-in method _winapi.CreatePipe}\n",
      "        1    0.000    0.000    0.001    0.001 pool.py:668(_help_stuff_finish)\n",
      "        1    0.001    0.001    0.001    0.001 {method 'acquire' of '_multiprocessing.SemLock' objects}\n",
      "        4    0.000    0.000    0.001    0.000 process.py:128(terminate)\n",
      "        4    0.000    0.000    0.001    0.000 popen_spawn_win32.py:120(terminate)\n",
      "        4    0.001    0.000    0.001    0.000 {built-in method _winapi.TerminateProcess}\n",
      "       16    0.000    0.000    0.001    0.000 connection.py:961(reduce_pipe_connection)\n",
      "        3    0.000    0.000    0.000    0.000 {built-in method _winapi.CreateNamedPipe}\n",
      "        3    0.000    0.000    0.000    0.000 connection.py:69(arbitrary_address)\n",
      "        3    0.000    0.000    0.000    0.000 tempfile.py:384(mktemp)\n",
      "        4    0.000    0.000    0.000    0.000 threading.py:267(__exit__)\n",
      "        3    0.000    0.000    0.000    0.000 context.py:65(Lock)\n",
      "       16    0.000    0.000    0.000    0.000 reduction.py:106(__init__)\n",
      "        3    0.000    0.000    0.000    0.000 {built-in method _thread.start_new_thread}\n",
      "        3    0.000    0.000    0.000    0.000 {built-in method _winapi.ConnectNamedPipe}\n",
      "        4    0.000    0.000    0.000    0.000 {method '__exit__' of '_io._IOBase' objects}\n",
      "        3    0.000    0.000    0.000    0.000 tempfile.py:76(_exists)\n",
      "        3    0.000    0.000    0.000    0.000 {built-in method nt.lstat}\n",
      "        3    0.000    0.000    0.000    0.000 {built-in method _winapi.CreateFile}\n",
      "        4    0.000    0.000    0.000    0.000 pool.py:179(Process)\n",
      "       34    0.000    0.000    0.000    0.000 {built-in method _winapi.CloseHandle}\n",
      "        3    0.000    0.000    0.000    0.000 synchronize.py:161(__init__)\n",
      "       19    0.000    0.000    0.000    0.000 {built-in method builtins.next}\n",
      "        3    0.000    0.000    0.000    0.000 queues.py:370(put)\n",
      "        4    0.000    0.000    0.000    0.000 process.py:80(__init__)\n",
      "        3    0.000    0.000    0.000    0.000 synchronize.py:50(__init__)\n",
      "        4    0.000    0.000    0.000    0.000 spawn.py:78(get_command_line)\n",
      "       14    0.000    0.000    0.000    0.000 popen_spawn_win32.py:117(poll)\n",
      "        6    0.000    0.000    0.000    0.000 tempfile.py:153(__next__)\n",
      "        3    0.000    0.000    0.000    0.000 threading.py:820(__init__)\n",
      "       11    0.000    0.000    0.000    0.000 reduction.py:38(__init__)\n",
      "       16    0.000    0.000    0.000    0.000 {built-in method _winapi.OpenProcess}\n",
      "        4    0.000    0.000    0.000    0.000 spawn.py:150(get_preparation_data)\n",
      "        8    0.000    0.000    0.000    0.000 synchronize.py:100(__getstate__)\n",
      "        4    0.000    0.000    0.000    0.000 process.py:61(_cleanup)\n",
      "        4    0.000    0.000    0.000    0.000 {built-in method io.open}\n",
      "        8    0.000    0.000    0.000    0.000 process.py:344(__reduce__)\n",
      "        3    0.000    0.000    0.000    0.000 connection.py:186(send_bytes)\n",
      "        3    0.000    0.000    0.000    0.000 synchronize.py:114(_make_name)\n",
      "        6    0.000    0.000    0.000    0.000 random.py:506(choices)\n",
      "        4    0.000    0.000    0.000    0.000 popen_spawn_win32.py:28(_close_handles)\n",
      "       90    0.000    0.000    0.000    0.000 {built-in method builtins.getattr}\n",
      "        3    0.000    0.000    0.000    0.000 connection.py:284(_send_bytes)\n",
      "       18    0.000    0.000    0.000    0.000 {method 'join' of 'str' objects}\n",
      "        5    0.000    0.000    0.000    0.000 util.py:186(__init__)\n",
      "        4    0.000    0.000    0.000    0.000 threading.py:538(__init__)\n",
      "        3    0.000    0.000    0.000    0.000 {built-in method _winapi.WriteFile}\n",
      "        3    0.000    0.000    0.000    0.000 ntpath.py:77(join)\n",
      "        4    0.000    0.000    0.000    0.000 subprocess.py:278(_args_from_interpreter_flags)\n",
      "        8    0.000    0.000    0.000    0.000 popen_spawn_win32.py:97(duplicate_for_child)\n",
      "        3    0.000    0.000    0.000    0.000 reduction.py:48(dumps)\n",
      "       19    0.000    0.000    0.000    0.000 <frozen importlib._bootstrap>:404(parent)\n",
      "        4    0.000    0.000    0.000    0.000 process.py:153(is_alive)\n",
      "        4    0.000    0.000    0.000    0.000 process.py:224(exitcode)\n",
      "        6    0.000    0.000    0.000    0.000 connection.py:135(__del__)\n",
      "       24    0.000    0.000    0.000    0.000 {built-in method _winapi.DuplicateHandle}\n",
      "        6    0.000    0.000    0.000    0.000 connection.py:281(_close)\n",
      "        6    0.000    0.000    0.000    0.000 random.py:519(<listcomp>)\n",
      "       40    0.000    0.000    0.000    0.000 context.py:351(get_spawning_popen)\n",
      "        4    0.000    0.000    0.000    0.000 threading.py:236(__init__)\n",
      "        1    0.000    0.000    0.000    0.000 pool.py:744(__init__)\n",
      "        7    0.000    0.000    0.000    0.000 _weakrefset.py:86(add)\n",
      "        8    0.000    0.000    0.000    0.000 {built-in method _thread.allocate_lock}\n",
      "        6    0.000    0.000    0.000    0.000 ntpath.py:124(splitdrive)\n",
      "       15    0.000    0.000    0.000    0.000 {method 'update' of 'dict' objects}\n",
      "        9    0.000    0.000    0.000    0.000 threading.py:1423(current_thread)\n",
      "        8    0.000    0.000    0.000    0.000 reduction.py:71(duplicate)\n",
      "        2    0.000    0.000    0.000    0.000 threading.py:1162(is_alive)\n",
      "       53    0.000    0.000    0.000    0.000 {built-in method nt.getpid}\n",
      "        8    0.000    0.000    0.000    0.000 queues.py:356(__getstate__)\n",
      "       16    0.000    0.000    0.000    0.000 context.py:357(assert_spawning)\n",
      "        5    0.000    0.000    0.000    0.000 threading.py:1095(_wait_for_tstate_lock)\n",
      "        8    0.000    0.000    0.000    0.000 context.py:354(set_spawning_popen)\n",
      "        6    0.000    0.000    0.000    0.000 tempfile.py:142(rng)\n",
      "       16    0.000    0.000    0.000    0.000 connection.py:173(fileno)\n",
      "        3    0.000    0.000    0.000    0.000 {built-in method _winapi.SetNamedPipeHandleState}\n",
      "       14    0.000    0.000    0.000    0.000 {built-in method builtins.max}\n",
      "        3    0.000    0.000    0.000    0.000 threading.py:1057(join)\n",
      "        4    0.000    0.000    0.000    0.000 threading.py:264(__enter__)\n",
      "       12    0.000    0.000    0.000    0.000 spawn.py:87(<genexpr>)\n",
      "        4    0.000    0.000    0.000    0.000 spawn.py:132(_check_not_importing_main)\n",
      "        8    0.000    0.000    0.000    0.000 process.py:94(<genexpr>)\n",
      "       19    0.000    0.000    0.000    0.000 {method 'rpartition' of 'str' objects}\n",
      "        6    0.000    0.000    0.000    0.000 connection.py:122(__init__)\n",
      "        4    0.000    0.000    0.000    0.000 {built-in method msvcrt.open_osfhandle}\n",
      "        1    0.000    0.000    0.000    0.000 {method 'put' of '_queue.SimpleQueue' objects}\n",
      "        4    0.000    0.000    0.000    0.000 {built-in method nt.getcwd}\n",
      "       18    0.000    0.000    0.000    0.000 util.py:48(debug)\n",
      "       15    0.000    0.000    0.000    0.000 {method 'copy' of 'dict' objects}\n",
      "        4    0.000    0.000    0.000    0.000 process.py:193(name)\n",
      "        6    0.000    0.000    0.000    0.000 {method 'GetOverlappedResult' of '_winapi.Overlapped' objects}\n",
      "        3    0.000    0.000    0.000    0.000 threading.py:775(_newname)\n",
      "        3    0.000    0.000    0.000    0.000 threading.py:1021(_stop)\n",
      "        7    0.000    0.000    0.000    0.000 _weakrefset.py:39(_remove)\n",
      "       20    0.000    0.000    0.000    0.000 process.py:99(_check_closed)\n",
      "        7    0.000    0.000    0.000    0.000 {method 'replace' of 'str' objects}\n",
      "       32    0.000    0.000    0.000    0.000 connection.py:163(readable)\n",
      "       48    0.000    0.000    0.000    0.000 {built-in method math.floor}\n",
      "        4    0.000    0.000    0.000    0.000 threading.py:276(_acquire_restore)\n",
      "       20    0.000    0.000    0.000    0.000 popen_spawn_win32.py:57(<genexpr>)\n",
      "        4    0.000    0.000    0.000    0.000 {built-in method _winapi.GetExitCodeProcess}\n",
      "        4    0.000    0.000    0.000    0.000 subprocess.py:268(_optim_args_from_interpreter_flags)\n",
      "        4    0.000    0.000    0.000    0.000 threading.py:279(_is_owned)\n",
      "       11    0.000    0.000    0.000    0.000 {method 'add' of 'set' objects}\n",
      "       24    0.000    0.000    0.000    0.000 {built-in method _winapi.GetCurrentProcess}\n",
      "        3    0.000    0.000    0.000    0.000 threading.py:1294(_make_invoke_excepthook)\n",
      "       19    0.000    0.000    0.000    0.000 connection.py:139(_check_closed)\n",
      "        4    0.000    0.000    0.000    0.000 threading.py:273(_release_save)\n",
      "       25    0.000    0.000    0.000    0.000 {built-in method builtins.len}\n",
      "        1    0.000    0.000    0.000    0.000 pool.py:157(__init__)\n",
      "       32    0.000    0.000    0.000    0.000 connection.py:168(writable)\n",
      "        6    0.000    0.000    0.000    0.000 {method 'find' of 'str' objects}\n",
      "       48    0.000    0.000    0.000    0.000 {method 'random' of '_random.Random' objects}\n",
      "        3    0.000    0.000    0.000    0.000 {built-in method builtins.hasattr}\n",
      "        3    0.000    0.000    0.000    0.000 threading.py:1191(daemon)\n",
      "       11    0.000    0.000    0.000    0.000 process.py:37(current_process)\n",
      "        3    0.000    0.000    0.000    0.000 synchronize.py:90(_make_methods)\n",
      "        8    0.000    0.000    0.000    0.000 process.py:189(name)\n",
      "       11    0.000    0.000    0.000    0.000 {built-in method builtins.isinstance}\n",
      "        4    0.000    0.000    0.000    0.000 {method 'copy' of 'list' objects}\n",
      "        4    0.000    0.000    0.000    0.000 process.py:205(daemon)\n",
      "        1    0.000    0.000    0.000    0.000 {method 'disable' of '_lsprof.Profiler' objects}\n",
      "        4    0.000    0.000    0.000    0.000 context.py:249(get_start_method)\n",
      "        4    0.000    0.000    0.000    0.000 {method '__enter__' of '_thread.lock' objects}\n",
      "        4    0.000    0.000    0.000    0.000 {method 'index' of 'list' objects}\n",
      "        6    0.000    0.000    0.000    0.000 threading.py:1176(daemon)\n",
      "        2    0.000    0.000    0.000    0.000 process.py:234(ident)\n",
      "       12    0.000    0.000    0.000    0.000 threading.py:546(is_set)\n",
      "        2    0.000    0.000    0.000    0.000 pool.py:348(_check_running)\n",
      "       11    0.000    0.000    0.000    0.000 {method 'discard' of 'set' objects}\n",
      "        1    0.000    0.000    0.000    0.000 pool.py:731(__enter__)\n",
      "        1    0.000    0.000    0.000    0.000 pool.py:276(_get_sentinels)\n",
      "        6    0.000    0.000    0.000    0.000 context.py:187(get_context)\n",
      "        4    0.000    0.000    0.000    0.000 {method 'append' of 'collections.deque' objects}\n",
      "        9    0.000    0.000    0.000    0.000 {built-in method _thread.get_ident}\n",
      "        8    0.000    0.000    0.000    0.000 {method 'items' of 'dict' objects}\n",
      "        1    0.000    0.000    0.000    0.000 pool.py:263(__del__)\n",
      "        3    0.000    0.000    0.000    0.000 tempfile.py:230(_get_candidate_names)\n",
      "        3    0.000    0.000    0.000    0.000 {method 'getbuffer' of '_io.BytesIO' objects}\n",
      "        1    0.000    0.000    0.000    0.000 context.py:233(get_context)\n",
      "        3    0.000    0.000    0.000    0.000 context.py:197(get_start_method)\n",
      "        4    0.000    0.000    0.000    0.000 {method 'get' of 'dict' objects}\n",
      "        4    0.000    0.000    0.000    0.000 process.py:213(authkey)\n",
      "        9    0.000    0.000    0.000    0.000 {built-in method nt.fspath}\n",
      "        7    0.000    0.000    0.000    0.000 {method 'release' of '_thread.lock' objects}\n",
      "        5    0.000    0.000    0.000    0.000 util.py:44(sub_debug)\n",
      "        1    0.000    0.000    0.000    0.000 pool.py:753(ready)\n",
      "        4    0.000    0.000    0.000    0.000 {method '__exit__' of '_thread.lock' objects}\n",
      "        4    0.000    0.000    0.000    0.000 spawn.py:45(get_executable)\n",
      "        3    0.000    0.000    0.000    0.000 {method '__exit__' of '_thread.RLock' objects}\n",
      "        1    0.000    0.000    0.000    0.000 {built-in method builtins.divmod}\n",
      "        3    0.000    0.000    0.000    0.000 connection.py:147(_check_writable)\n",
      "        4    0.000    0.000    0.000    0.000 {method 'append' of 'list' objects}\n",
      "        3    0.000    0.000    0.000    0.000 {method 'locked' of '_thread.lock' objects}\n",
      "\n",
      "\n"
     ]
    },
    {
     "data": {
      "text/plain": [
       "<pstats.Stats at 0x1c129b76650>"
      ]
     },
     "execution_count": 9,
     "metadata": {},
     "output_type": "execute_result"
    }
   ],
   "source": [
    "stats_mult = pstats.Stats('profile_multi.prof')\n",
    "stats_mult.strip_dirs().sort_stats('cumulative').print_stats()"
   ]
  },
  {
   "cell_type": "code",
   "execution_count": 10,
   "metadata": {},
   "outputs": [
    {
     "name": "stdout",
     "output_type": "stream",
     "text": [
      "Fri Apr 19 14:46:18 2024    profile_mpi.prof\n",
      "\n",
      "         94 function calls (91 primitive calls) in 0.019 seconds\n",
      "\n",
      "   Ordered by: cumulative time\n",
      "\n",
      "   ncalls  tottime  percall  cumtime  percall filename:lineno(function)\n",
      "        1    0.000    0.000    0.019    0.019 {built-in method builtins.exec}\n",
      "        1    0.000    0.000    0.019    0.019 <string>:1(<module>)\n",
      "        1    0.010    0.010    0.018    0.018 pi_mpi.py:4(pi_mpi4)\n",
      "      5/2    0.000    0.000    0.008    0.004 {built-in method numpy.core._multiarray_umath.implement_array_function}\n",
      "        1    0.000    0.000    0.005    0.005 <__array_function__ internals>:177(linspace)\n",
      "        1    0.003    0.003    0.005    0.005 function_base.py:23(linspace)\n",
      "        1    0.003    0.003    0.003    0.003 {built-in method numpy.arange}\n",
      "        1    0.000    0.000    0.002    0.002 <__array_function__ internals>:177(sum)\n",
      "        2    0.000    0.000    0.002    0.001 fromnumeric.py:69(_wrapreduction)\n",
      "        1    0.000    0.000    0.002    0.002 fromnumeric.py:2160(sum)\n",
      "        2    0.002    0.001    0.002    0.001 {method 'reduce' of 'numpy.ufunc' objects}\n",
      "        1    0.000    0.000    0.000    0.000 {built-in method builtins.print}\n",
      "        4    0.000    0.000    0.000    0.000 iostream.py:518(write)\n",
      "        4    0.000    0.000    0.000    0.000 iostream.py:448(_schedule_flush)\n",
      "        1    0.000    0.000    0.000    0.000 iostream.py:202(schedule)\n",
      "        1    0.000    0.000    0.000    0.000 socket.py:621(send)\n",
      "        1    0.000    0.000    0.000    0.000 {method 'reduce' of 'mpi4py.MPI.Comm' objects}\n",
      "        1    0.000    0.000    0.000    0.000 <__array_function__ internals>:177(any)\n",
      "        1    0.000    0.000    0.000    0.000 fromnumeric.py:2305(any)\n",
      "        1    0.000    0.000    0.000    0.000 {method 'any' of 'numpy.generic' objects}\n",
      "        1    0.000    0.000    0.000    0.000 numerictypes.py:356(issubdtype)\n",
      "        1    0.000    0.000    0.000    0.000 _methods.py:54(_any)\n",
      "        1    0.000    0.000    0.000    0.000 <__array_function__ internals>:177(ndim)\n",
      "        2    0.000    0.000    0.000    0.000 numerictypes.py:282(issubclass_)\n",
      "        1    0.000    0.000    0.000    0.000 <__array_function__ internals>:177(result_type)\n",
      "        6    0.000    0.000    0.000    0.000 {built-in method builtins.isinstance}\n",
      "        2    0.000    0.000    0.000    0.000 {built-in method numpy.asanyarray}\n",
      "        2    0.000    0.000    0.000    0.000 fromnumeric.py:70(<dictcomp>)\n",
      "        4    0.000    0.000    0.000    0.000 iostream.py:429(_is_master_process)\n",
      "        1    0.000    0.000    0.000    0.000 threading.py:1162(is_alive)\n",
      "        1    0.000    0.000    0.000    0.000 {method 'reshape' of 'numpy.ndarray' objects}\n",
      "        1    0.000    0.000    0.000    0.000 fromnumeric.py:2155(_sum_dispatcher)\n",
      "        3    0.000    0.000    0.000    0.000 {built-in method builtins.issubclass}\n",
      "        1    0.000    0.000    0.000    0.000 numeric.py:1859(isscalar)\n",
      "        1    0.000    0.000    0.000    0.000 threading.py:1095(_wait_for_tstate_lock)\n",
      "        1    0.000    0.000    0.000    0.000 {method 'Get_rank' of 'mpi4py.MPI.Comm' objects}\n",
      "        1    0.000    0.000    0.000    0.000 fromnumeric.py:3164(ndim)\n",
      "        1    0.000    0.000    0.000    0.000 {method 'astype' of 'numpy.ndarray' objects}\n",
      "        1    0.000    0.000    0.000    0.000 iostream.py:90(_event_pipe)\n",
      "        2    0.000    0.000    0.000    0.000 {method 'items' of 'dict' objects}\n",
      "        4    0.000    0.000    0.000    0.000 {built-in method nt.getpid}\n",
      "        1    0.000    0.000    0.000    0.000 fromnumeric.py:3160(_ndim_dispatcher)\n",
      "        1    0.000    0.000    0.000    0.000 __init__.py:144(_DType_reduce)\n",
      "        1    0.000    0.000    0.000    0.000 {built-in method builtins.getattr}\n",
      "        4    0.000    0.000    0.000    0.000 {method 'write' of '_io.StringIO' objects}\n",
      "        4    0.000    0.000    0.000    0.000 {method '__exit__' of '_thread.RLock' objects}\n",
      "        1    0.000    0.000    0.000    0.000 {method 'Get_size' of 'mpi4py.MPI.Comm' objects}\n",
      "        4    0.000    0.000    0.000    0.000 {built-in method builtins.len}\n",
      "        1    0.000    0.000    0.000    0.000 {method 'disable' of '_lsprof.Profiler' objects}\n",
      "        1    0.000    0.000    0.000    0.000 {method 'acquire' of '_thread.lock' objects}\n",
      "        1    0.000    0.000    0.000    0.000 threading.py:546(is_set)\n",
      "        1    0.000    0.000    0.000    0.000 multiarray.py:664(result_type)\n",
      "        1    0.000    0.000    0.000    0.000 fromnumeric.py:2300(_any_dispatcher)\n",
      "        1    0.000    0.000    0.000    0.000 function_base.py:18(_linspace_dispatcher)\n",
      "        1    0.000    0.000    0.000    0.000 {method 'append' of 'collections.deque' objects}\n",
      "        1    0.000    0.000    0.000    0.000 {built-in method _operator.index}\n",
      "\n",
      "\n"
     ]
    },
    {
     "data": {
      "text/plain": [
       "<pstats.Stats at 0x1c129b779a0>"
      ]
     },
     "execution_count": 10,
     "metadata": {},
     "output_type": "execute_result"
    }
   ],
   "source": [
    "stats_mpi = pstats.Stats('profile_mpi.prof')\n",
    "stats_mpi.strip_dirs().sort_stats('cumulative').print_stats()"
   ]
  }
 ],
 "metadata": {
  "kernelspec": {
   "display_name": "Python 3",
   "language": "python",
   "name": "python3"
  },
  "language_info": {
   "codemirror_mode": {
    "name": "ipython",
    "version": 3
   },
   "file_extension": ".py",
   "mimetype": "text/x-python",
   "name": "python",
   "nbconvert_exporter": "python",
   "pygments_lexer": "ipython3",
   "version": "3.10.4"
  }
 },
 "nbformat": 4,
 "nbformat_minor": 2
}
