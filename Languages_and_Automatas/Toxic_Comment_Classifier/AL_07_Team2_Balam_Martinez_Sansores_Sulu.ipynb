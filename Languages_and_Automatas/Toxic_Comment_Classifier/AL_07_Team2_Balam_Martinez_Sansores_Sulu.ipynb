{
 "cells": [
  {
   "cell_type": "code",
   "execution_count": 85,
   "metadata": {},
   "outputs": [],
   "source": [
    "import re"
   ]
  },
  {
   "cell_type": "markdown",
   "metadata": {},
   "source": [
    "Feel free to check the sourcecode at: "
   ]
  },
  {
   "cell_type": "code",
   "execution_count": 86,
   "metadata": {},
   "outputs": [],
   "source": [
    "class RegularExpressionProcessor:\n",
    "    def __init__(self):\n",
    "        self.expressions = []\n",
    "\n",
    "    def add_expression(self, regex, operation_type, replacement=None):\n",
    "        self.expressions.append((regex, operation_type, replacement))\n",
    "\n",
    "    def replace(self, regex, string, value):\n",
    "        return re.sub(regex, value, string)\n",
    "\n",
    "    def find(self, regex, string):\n",
    "        return re.findall(regex, string)\n",
    "\n",
    "    def delete(self, regex, string):\n",
    "        return re.sub(regex, '', string)\n",
    "\n",
    "    def process(self, data):\n",
    "        processed_data = []\n",
    "        for text in data:\n",
    "            processed_text = text\n",
    "            for regex, operation_type, replacement in self.expressions:\n",
    "                if operation_type == 'replace':\n",
    "                    processed_text = self.replace(regex, processed_text, replacement)\n",
    "                elif operation_type == 'find':\n",
    "                    matches = self.find(regex, processed_text)\n",
    "                    # You can do something with matches here if needed\n",
    "                elif operation_type == 'delete':\n",
    "                    processed_text = self.delete(regex, processed_text)\n",
    "            processed_data.append(processed_text)\n",
    "        return processed_data\n"
   ]
  },
  {
   "cell_type": "code",
   "execution_count": 87,
   "metadata": {},
   "outputs": [],
   "source": [
    "# Example usage:\n",
    "processor = RegularExpressionProcessor()\n",
    "\n",
    "# Add regular expressions for processing toxic comments dataset\n",
    "processor.add_expression(r'@\\w+', 'delete')  # Delete media usernames\n",
    "processor.add_expression(r'\\b[A-Za-z0-9._%+-]+@[A-Za-z0-9.-]+\\.[A-Z|a-z]{2,}\\b', 'delete')  # Delete emails\n",
    "processor.add_expression(r'\\b\\d{10}\\b', 'delete')  # Delete phone numbers\n",
    "processor.add_expression(r'\\b[A-Z][a-z]*\\b', 'delete')  # Delete company names\n",
    "\n",
    "# Normalize words and delete noisy expressions\n",
    "processor.add_expression(r'(.)\\1{2,}', 'replace', r'\\1')  # Normalize repeated characters within words\n",
    "processor.add_expression(r'[^\\w\\s]+', 'delete')  # Delete non-word characters\n",
    "processor.add_expression(r'\\s+', 'replace', ' ')  # Normalize whitespace\n"
   ]
  },
  {
   "cell_type": "code",
   "execution_count": 88,
   "metadata": {},
   "outputs": [
    {
     "name": "stdout",
     "output_type": "stream",
     "text": [
      "a comment with and an email usercom \n",
      "another toxic comment with mispelled words like imbecile imbecile\n",
      "noisy expressions like newline tab and nonascii characters\n",
      " that is your opinion i belive DBZ tenchaichi 3 and the last of the original bodikai for the PS2 bodikai 3 is just as good as virtua fighter\n",
      "tekken DOA and other well known fighting games come into reality and notice that everything you think is fact that is just base on what you think is highly unimpaortant and is mediocre \n",
      "you used to get beaten on and you belive what you say goes without any research more clearly without say your facts straight LOL HE IS GHAY ASS FUCKER\n",
      " can keep reverting me to push your WP viewpoints til take it to WPBLPN if you want wont discuss it any longer ðŸ½\n",
      "Ð ÐÐÑÐµÐ½ÐºÐ¾ ÐÑ Ð¼Ñ ÐÐÑÑÑ Ð³ÐÑ ÐÐ½ÐÐ ÑÐµÑ ÑÐÐÐ²Ðµ\n",
      "ØØÙˆÙ ÙØØØØ ØµÙØØØª ØÙÙØ³ØØ¹ØØ ÙˆØÙØªØ¹ÙÙŠÙØØª\n",
      "â unsigned comment added by\n"
     ]
    }
   ],
   "source": [
    "# Process data\n",
    "data = [\n",
    "    \"a comment with @username and an email user@example.com. 1234567890\",\n",
    "    \"another toxic comment with mispelled words like imbecile imbeeeeeeeecile.\",\n",
    "    \"noisy expressions like \\n newline \\t tab and non-ascii characters.\",\n",
    "    \"um that is your opinion i belive DBZ tenchaichi 3 and the last of the original bodikai for the PS2 bodikai 3 is just as good as virtua fighter,\",\n",
    "    \"tekken, DOA and other well known fighting games. So come into reality and notice that everything you think is fact that is just base on what you think is highly unimpaortant and is mediocre \",\n",
    "    \"you used to get beaten on and you belive what you say goes without any research (more clearly without say) Get your facts straight LOL ......,  .\"\n",
    "    \"HE IS A GHAY ASS FUCKER@@!!\",\n",
    "    \":::::::::You can keep reverting me to push your WP:Undue viewpoints til I take it to WP:BLPN if you want. I won't discuss it any longer. '' - ðŸ—½\",\n",
    "    \"Ð Ð°Ð´Ñ‡ÐµÐ½ÐºÐ¾ Ð¸Ñ Ð¼Ñ‹ Ð´Ð¸Ñ€Ñ‚Ñ‹ Ð³Ð°Ñ‹ Ð°Ð½Ð°Ð» ÑÐµÑ… ÑÐ»Ð°Ð²Ðµ!!\",\n",
    "    \"Ø­Ø§ÙˆÙ„ Ù‚Ø±Ø§Ø¡Ø© ØµÙØ­Ø§Øª Ø§Ù„Ù…Ø³Ø§Ø¹Ø¯Ø© ÙˆØ§Ù„ØªØ¹Ù„ÙŠÙ…Ø§Øª\", # These are ASCII characters, \"Ùˆ\" (Hex: C3 99, Dec: 195 153), \"Øª\" (Hex: C3 98, Dec: 195 152) etc.\n",
    "    \"â€” Preceding unsigned comment added by\" # In this examples \"€\" is not an ASCII character\n",
    "]\n",
    "processed_data = processor.process(data)\n",
    "\n",
    "# Print processed data\n",
    "for text in processed_data:\n",
    "    print(text)"
   ]
  }
 ],
 "metadata": {
  "kernelspec": {
   "display_name": "Python 3",
   "language": "python",
   "name": "python3"
  },
  "language_info": {
   "codemirror_mode": {
    "name": "ipython",
    "version": 3
   },
   "file_extension": ".py",
   "mimetype": "text/x-python",
   "name": "python",
   "nbconvert_exporter": "python",
   "pygments_lexer": "ipython3",
   "version": "3.10.11"
  }
 },
 "nbformat": 4,
 "nbformat_minor": 2
}
