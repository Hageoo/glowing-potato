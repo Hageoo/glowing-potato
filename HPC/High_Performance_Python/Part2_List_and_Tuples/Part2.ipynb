{
 "cells": [
  {
   "cell_type": "markdown",
   "metadata": {},
   "source": [
    "**Part 2. List and Tuples**"
   ]
  },
  {
   "cell_type": "code",
   "execution_count": 41,
   "metadata": {},
   "outputs": [],
   "source": [
    "import timeit\n",
    "import pandas as pd\n"
   ]
  },
  {
   "cell_type": "markdown",
   "metadata": {},
   "source": [
    "8. In some cases, it is necessary to efficiently perform insertion or removal of elements both at the beginning and at the end of the collection. Measure the time for the following operations with N = 10000, 20000y30000elements:a.Delete lastelement of a list via pop()b.Delete firstelement of a list via pop(0)c.Append 1 at the end of the list.d.Insert 1 at the beginningof the list insert(0, 1)Make a tablewith your results. It should looks like table on Chapter 2: Pure Python Optimization (pp. 38) from the book G. Lenaro (2017). Python high Performance. Second Edition. UK: Packt Publishing Ltd."
   ]
  },
  {
   "cell_type": "code",
   "execution_count": 42,
   "metadata": {},
   "outputs": [
    {
     "data": {
      "text/html": [
       "<div>\n",
       "<style scoped>\n",
       "    .dataframe tbody tr th:only-of-type {\n",
       "        vertical-align: middle;\n",
       "    }\n",
       "\n",
       "    .dataframe tbody tr th {\n",
       "        vertical-align: top;\n",
       "    }\n",
       "\n",
       "    .dataframe thead th {\n",
       "        text-align: right;\n",
       "    }\n",
       "</style>\n",
       "<table border=\"1\" class=\"dataframe\">\n",
       "  <thead>\n",
       "    <tr style=\"text-align: right;\">\n",
       "      <th></th>\n",
       "      <th>N=10000 (µs)</th>\n",
       "      <th>N=20000 (µs)</th>\n",
       "      <th>N=30000 (µs)</th>\n",
       "    </tr>\n",
       "    <tr>\n",
       "      <th>Code</th>\n",
       "      <th></th>\n",
       "      <th></th>\n",
       "      <th></th>\n",
       "    </tr>\n",
       "  </thead>\n",
       "  <tbody>\n",
       "    <tr>\n",
       "      <th>list.pop()</th>\n",
       "      <td>0.0745</td>\n",
       "      <td>0.0442</td>\n",
       "      <td>0.0516</td>\n",
       "    </tr>\n",
       "    <tr>\n",
       "      <th>list.pop(0)</th>\n",
       "      <td>20.4851</td>\n",
       "      <td>43.8387</td>\n",
       "      <td>69.5690</td>\n",
       "    </tr>\n",
       "    <tr>\n",
       "      <th>list.append()</th>\n",
       "      <td>0.0555</td>\n",
       "      <td>0.0566</td>\n",
       "      <td>0.0389</td>\n",
       "    </tr>\n",
       "    <tr>\n",
       "      <th>list.insert(0, 1)</th>\n",
       "      <td>3.2391</td>\n",
       "      <td>6.2332</td>\n",
       "      <td>11.8329</td>\n",
       "    </tr>\n",
       "  </tbody>\n",
       "</table>\n",
       "</div>"
      ],
      "text/plain": [
       "                   N=10000 (µs)  N=20000 (µs)  N=30000 (µs)\n",
       "Code                                                       \n",
       "list.pop()               0.0745        0.0442        0.0516\n",
       "list.pop(0)             20.4851       43.8387       69.5690\n",
       "list.append()            0.0555        0.0566        0.0389\n",
       "list.insert(0, 1)        3.2391        6.2332       11.8329"
      ]
     },
     "execution_count": 42,
     "metadata": {},
     "output_type": "execute_result"
    }
   ],
   "source": [
    "def measure_time_list(N):\n",
    "    # Create a setup statement for timeit\n",
    "    setup = f\"lst = list(range({N}))\"\n",
    "\n",
    "    # Measure time for list.pop()\n",
    "    pop_time = timeit.timeit('lst.pop()', setup=setup, number=1000)\n",
    "    avg_pop_time = (pop_time / 1000) * 1e6  # Calculate average time per run in microseconds\n",
    "\n",
    "    # Measure time for list.pop(0)\n",
    "    pop_zero_time = timeit.timeit('lst.pop(0)', setup=setup, number=1000)\n",
    "    avg_pop_zero_time = (pop_zero_time / 1000) * 1e6  # Calculate average time per run in microseconds\n",
    "\n",
    "    # Measure time for list.append()\n",
    "    append_time = timeit.timeit('lst.append(1)', setup=setup, number=1000)\n",
    "    avg_append_time = (append_time / 1000) * 1e6  # Calculate average time per run in microseconds\n",
    "\n",
    "    # Measure time for list.insert(0, 1)\n",
    "    insert_time = timeit.timeit('lst.insert(0, 1)', setup=setup, number=1000)\n",
    "    avg_insert_time = (insert_time / 1000) * 1e6  # Calculate average time per run in microseconds\n",
    "\n",
    "    return avg_pop_time, avg_pop_zero_time, avg_append_time, avg_insert_time\n",
    "\n",
    "# Initialize data for the table\n",
    "data_list = {'Code': ['list.pop()', 'list.pop(0)', 'list.append()', 'list.insert(0, 1)'],\n",
    "             'N=10000 (µs)': list(measure_time_list(10000)),\n",
    "             'N=20000 (µs)': list(measure_time_list(20000)),\n",
    "             'N=30000 (µs)': list(measure_time_list(30000))}\n",
    "\n",
    "# Create a DataFrame and format it\n",
    "df_list = pd.DataFrame(data_list)\n",
    "df_list.set_index('Code', inplace=True)\n",
    "\n",
    "# Print or return the DataFrame for display\n",
    "df_list"
   ]
  },
  {
   "cell_type": "markdown",
   "metadata": {},
   "source": [
    "9. Python provides a data structure with interesting properties in the collection.deque class. The word deque stands for double-ended queue because this data structure is designed to efficiently put and remove elements at the beginning and at the end of the collection. Evaluate the following methodswith N = 10000, 20 000 and 30 000 elements:a.deque.pop()b.deque.popleft()c.deque.append(1)d.deque.appendleft(1)Make a tablewith your results. It should looks like table onpp. 39 on the same book as previous task. "
   ]
  },
  {
   "cell_type": "code",
   "execution_count": 43,
   "metadata": {},
   "outputs": [],
   "source": [
    "def measure_time(N):\n",
    "    # Create a setup statement for timeit\n",
    "    setup = f\"from collections import deque; d = deque(range({N}))\"\n",
    "\n",
    "    # Measure time for deque.pop()\n",
    "    pop_time = timeit.timeit('d.pop()', setup=setup, number=1000)\n",
    "    avg_pop_time = (pop_time / 1000) * 1e6  # Calculate average time per run in microseconds\n",
    "\n",
    "    # Measure time for deque.popleft()\n",
    "    popleft_time = timeit.timeit('d.popleft()', setup=setup, number=1000)\n",
    "    avg_popleft_time = (popleft_time / 1000) * 1e6  # Calculate average time per run in microseconds\n",
    "\n",
    "    # Measure time for deque.append()\n",
    "    append_time = timeit.timeit('d.append(1)', setup=setup, number=1000)\n",
    "    avg_append_time = (append_time / 1000) * 1e6  # Calculate average time per run in microseconds\n",
    "\n",
    "    # Measure time for deque.appendleft()\n",
    "    appendleft_time = timeit.timeit('d.appendleft(1)', setup=setup, number=1000)\n",
    "    avg_appendleft_time = (appendleft_time / 1000) * 1e6  # Calculate average time per run in microseconds\n",
    "\n",
    "    return avg_pop_time, avg_popleft_time, avg_append_time, avg_appendleft_time"
   ]
  },
  {
   "cell_type": "code",
   "execution_count": 44,
   "metadata": {},
   "outputs": [
    {
     "data": {
      "text/html": [
       "<div>\n",
       "<style scoped>\n",
       "    .dataframe tbody tr th:only-of-type {\n",
       "        vertical-align: middle;\n",
       "    }\n",
       "\n",
       "    .dataframe tbody tr th {\n",
       "        vertical-align: top;\n",
       "    }\n",
       "\n",
       "    .dataframe thead th {\n",
       "        text-align: right;\n",
       "    }\n",
       "</style>\n",
       "<table border=\"1\" class=\"dataframe\">\n",
       "  <thead>\n",
       "    <tr style=\"text-align: right;\">\n",
       "      <th></th>\n",
       "      <th>N=10000 (µs)</th>\n",
       "      <th>N=20000 (µs)</th>\n",
       "      <th>N=30000 (µs)</th>\n",
       "    </tr>\n",
       "    <tr>\n",
       "      <th>Code</th>\n",
       "      <th></th>\n",
       "      <th></th>\n",
       "      <th></th>\n",
       "    </tr>\n",
       "  </thead>\n",
       "  <tbody>\n",
       "    <tr>\n",
       "      <th>deque.pop()</th>\n",
       "      <td>0.0491</td>\n",
       "      <td>0.0311</td>\n",
       "      <td>0.0320</td>\n",
       "    </tr>\n",
       "    <tr>\n",
       "      <th>deque.popleft()</th>\n",
       "      <td>0.0489</td>\n",
       "      <td>0.0289</td>\n",
       "      <td>0.0287</td>\n",
       "    </tr>\n",
       "    <tr>\n",
       "      <th>deque.append()</th>\n",
       "      <td>0.0584</td>\n",
       "      <td>0.0305</td>\n",
       "      <td>0.0306</td>\n",
       "    </tr>\n",
       "    <tr>\n",
       "      <th>deque.appendleft()</th>\n",
       "      <td>0.0698</td>\n",
       "      <td>0.0317</td>\n",
       "      <td>0.0319</td>\n",
       "    </tr>\n",
       "  </tbody>\n",
       "</table>\n",
       "</div>"
      ],
      "text/plain": [
       "                    N=10000 (µs)  N=20000 (µs)  N=30000 (µs)\n",
       "Code                                                        \n",
       "deque.pop()               0.0491        0.0311        0.0320\n",
       "deque.popleft()           0.0489        0.0289        0.0287\n",
       "deque.append()            0.0584        0.0305        0.0306\n",
       "deque.appendleft()        0.0698        0.0317        0.0319"
      ]
     },
     "execution_count": 44,
     "metadata": {},
     "output_type": "execute_result"
    }
   ],
   "source": [
    "# Initialize data for the table\n",
    "data = {'Code': ['deque.pop()', 'deque.popleft()', 'deque.append()', 'deque.appendleft()'],\n",
    "        'N=10000 (µs)': list(measure_time(10000)),\n",
    "        'N=20000 (µs)': list(measure_time(20000)),\n",
    "        'N=30000 (µs)': list(measure_time(30000))}\n",
    "\n",
    "# Create a DataFrame and format it\n",
    "df = pd.DataFrame(data)\n",
    "df.set_index('Code', inplace=True)\n",
    "\n",
    "# Print or return the DataFrame for display\n",
    "df"
   ]
  },
  {
   "cell_type": "markdown",
   "metadata": {},
   "source": [
    "10. The efficiency gained by the appendleft and popleft comes at a cost: accesing an element in the middle of a deque is a O(N) operation. Evaluate the time for the next operations with with N = 10000, 20 000 and 30 000 elements:a.deque[0]b.deque[N-1]c.deque[int(N/2)]Make a tablewith your results. It should looks like table onpp. 39 on the same bookas previous task. "
   ]
  },
  {
   "cell_type": "code",
   "execution_count": 45,
   "metadata": {},
   "outputs": [
    {
     "data": {
      "text/html": [
       "<div>\n",
       "<style scoped>\n",
       "    .dataframe tbody tr th:only-of-type {\n",
       "        vertical-align: middle;\n",
       "    }\n",
       "\n",
       "    .dataframe tbody tr th {\n",
       "        vertical-align: top;\n",
       "    }\n",
       "\n",
       "    .dataframe thead th {\n",
       "        text-align: right;\n",
       "    }\n",
       "</style>\n",
       "<table border=\"1\" class=\"dataframe\">\n",
       "  <thead>\n",
       "    <tr style=\"text-align: right;\">\n",
       "      <th></th>\n",
       "      <th>N=10000 (µs)</th>\n",
       "      <th>N=20000 (µs)</th>\n",
       "      <th>N=30000 (µs)</th>\n",
       "    </tr>\n",
       "    <tr>\n",
       "      <th>Operation</th>\n",
       "      <th></th>\n",
       "      <th></th>\n",
       "      <th></th>\n",
       "    </tr>\n",
       "  </thead>\n",
       "  <tbody>\n",
       "    <tr>\n",
       "      <th>deque[0]</th>\n",
       "      <td>0.0456</td>\n",
       "      <td>0.0238</td>\n",
       "      <td>0.0225</td>\n",
       "    </tr>\n",
       "    <tr>\n",
       "      <th>deque[N-1]</th>\n",
       "      <td>0.0501</td>\n",
       "      <td>0.0244</td>\n",
       "      <td>0.0259</td>\n",
       "    </tr>\n",
       "    <tr>\n",
       "      <th>deque[int(N/2)]</th>\n",
       "      <td>0.1862</td>\n",
       "      <td>0.2862</td>\n",
       "      <td>0.4291</td>\n",
       "    </tr>\n",
       "  </tbody>\n",
       "</table>\n",
       "</div>"
      ],
      "text/plain": [
       "                 N=10000 (µs)  N=20000 (µs)  N=30000 (µs)\n",
       "Operation                                                \n",
       "deque[0]               0.0456        0.0238        0.0225\n",
       "deque[N-1]             0.0501        0.0244        0.0259\n",
       "deque[int(N/2)]        0.1862        0.2862        0.4291"
      ]
     },
     "execution_count": 45,
     "metadata": {},
     "output_type": "execute_result"
    }
   ],
   "source": [
    "def measure_access_time(N):\n",
    "    # Create a setup statement for timeit\n",
    "    setup = f\"from collections import deque; d = deque(range({N}))\"\n",
    "\n",
    "    # Measure time for accessing deque[0]\n",
    "    access_first_time = timeit.timeit('d[0]', setup=setup, number=1000)\n",
    "    avg_access_first_time = (access_first_time / 1000) * 1e6  # Calculate average time per run in microseconds\n",
    "\n",
    "    # Measure time for accessing deque[N-1]\n",
    "    access_last_time = timeit.timeit('d[-1]', setup=setup, number=1000)\n",
    "    avg_access_last_time = (access_last_time / 1000) * 1e6  # Calculate average time per run in microseconds\n",
    "\n",
    "    # Measure time for accessing deque[int(N/2)]\n",
    "    access_mid_time = timeit.timeit(f'd[int({N}/2)]', setup=setup, number=1000)\n",
    "    avg_access_mid_time = (access_mid_time / 1000) * 1e6  # Calculate average time per run in microseconds\n",
    "\n",
    "    return avg_access_first_time, avg_access_last_time, avg_access_mid_time\n",
    "\n",
    "# Initialize data for the table\n",
    "data_access = {'Operation': ['deque[0]', 'deque[N-1]', 'deque[int(N/2)]'],\n",
    "               'N=10000 (µs)': list(measure_access_time(10000)),\n",
    "               'N=20000 (µs)': list(measure_access_time(20000)),\n",
    "               'N=30000 (µs)': list(measure_access_time(30000))}\n",
    "\n",
    "# Create a DataFrame and format it\n",
    "df_access = pd.DataFrame(data_access)\n",
    "df_access.set_index('Operation', inplace=True)\n",
    "\n",
    "# Print or return the DataFrame for display\n",
    "df_access"
   ]
  },
  {
   "cell_type": "markdown",
   "metadata": {},
   "source": [
    "11. Explain what is Overallocation in lists."
   ]
  },
  {
   "cell_type": "markdown",
   "metadata": {},
   "source": [
    "\n",
    "Overallocation in lists means allocating more memory than immediately necessary when creating a list. This is done to avoid frequent reallocation and copying of elements as the list grows. For example, when you create a list with a certain initial capacity, the actual memory allocated for the list might be larger than the number of elements initially added. This extra space allows the list to efficiently accommodate future additions without needing to resize the underlying array frequently.\n",
    "\n",
    "However, overallocation can lead to inefficient use of memory, especially if the list doesn't grow much beyond its initial size. It also adds complexity to managing memory, as the actual size of the list (number of elements) may differ from the allocated size (capacity), which can impact memory usage and performance in certain scenarios."
   ]
  },
  {
   "cell_type": "markdown",
   "metadata": {},
   "source": [
    "*Info retrieved from*: \n",
    "https://towardsdatascience.com/memory-efficiency-of-common-python-data-structures-88f0f720421\n",
    "https://stackoverflow.com/questions/52195579/what-is-the-resizing-factor-of-lists-in-python"
   ]
  }
 ],
 "metadata": {
  "kernelspec": {
   "display_name": "Python 3",
   "language": "python",
   "name": "python3"
  },
  "language_info": {
   "codemirror_mode": {
    "name": "ipython",
    "version": 3
   },
   "file_extension": ".py",
   "mimetype": "text/x-python",
   "name": "python",
   "nbconvert_exporter": "python",
   "pygments_lexer": "ipython3",
   "version": "3.10.4"
  }
 },
 "nbformat": 4,
 "nbformat_minor": 2
}
